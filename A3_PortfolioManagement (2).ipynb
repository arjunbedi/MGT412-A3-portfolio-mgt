{
 "cells": [
  {
   "cell_type": "markdown",
   "metadata": {},
   "source": [
    "\n",
    "\n",
    "---\n",
    "\n",
    "\n",
    "# Assignment 3: Portfolio Management \n",
    "\n",
    "\n",
    "\n",
    "1. Load the CRSP data from `https://github.com/mgt412/course_notebooks/blob/master/Datasets/CRSP_Data.xlsx?raw=true`.\n",
    "2. Compute returns and excess returns (net of risk-free rate) for all stocks. Retain only rows where the absolute value of the return is lower than 10% (to eliminate outliers).\n",
    "3. For each stock in the sample, estimate the Carhart 4-factor model -- only if there are at least 50 observation of that stock. Retain, in a separate `DataFrame`, the estimated coefficients (alpha and betas).\n",
    "4. Retain the five stocks with highest estimated $\\alpha$ (**Group H**) and the five stocks with lowest estimated $\\alpha$ (**Group L**)\n",
    "5. Using stocks in **Group H**, build a portfolio that has a beta of zero on all four risk factors. What are the estimated weights? What is the $\\alpha$ of this portfolio? Repeat the task for **Group L**.\n",
    "6. Compare the $\\alpha$ on the zero-beta portfolios for **Group H** and **Group L**. What do you conclude?"
   ]
  },
  {
   "cell_type": "code",
   "execution_count": 1,
   "metadata": {},
   "outputs": [],
   "source": [
    "from pandas import *\n",
    "import numpy as np\n",
    "\n",
    "url=\"https://github.com/mgt412/course_notebooks/blob/master/Datasets/CRSP_Data.xlsx?raw=true\"\n",
    "crsp = read_excel(url,index_col=0)\n",
    "crsp['date'] = to_datetime(crsp['date'], format='%Y%m%d')\n",
    "crsp['RET']=crsp.groupby('TICKER')['PRC'].apply(lambda x: x.pct_change(1))\n",
    "crsp['RetRf']=crsp['RET']-crsp['rf'] # excess return\n",
    "\n",
    "crsp=crsp[crsp['RET'].map(np.abs)<10]"
   ]
  },
  {
   "cell_type": "code",
   "execution_count": 2,
   "metadata": {},
   "outputs": [],
   "source": [
    "import statsmodels.regression.linear_model as smf\n",
    "from statsmodels.tools.tools import add_constant\n",
    "\n",
    "list_tickers=crsp['TICKER'].drop_duplicates().tolist()\n",
    "\n",
    "alphas=[]\n",
    "betasM=[]\n",
    "betasHML=[]\n",
    "betasSMB=[]\n",
    "betasUMD=[]\n",
    "list_tickers2=[]\n",
    "\n",
    "for tick in list_tickers:\n",
    "    \n",
    "    if len(crsp[crsp.TICKER==tick])<=50:\n",
    "        continue\n",
    "        \n",
    "    list_tickers2.append(tick)\n",
    "    \n",
    "    y=crsp[crsp.TICKER==tick]['RetRf']\n",
    "    x=add_constant(crsp[crsp.TICKER==tick][['mktrf','hml','smb','umd']])\n",
    "    \n",
    "    temp=smf.OLS(y,x,missing='drop').fit(cov_type='HC2')\n",
    "    \n",
    "    alphas.append(temp.params['const'])\n",
    "    betasM.append(temp.params['mktrf'])\n",
    "    betasHML.append(temp.params['hml'])\n",
    "    betasSMB.append(temp.params['smb'])\n",
    "    betasUMD.append(temp.params['umd'])\n",
    "\n",
    "coefficients=DataFrame(columns=['TICKER','alpha','betaM','betaHML','betaSMB','betaUMD'])\n",
    "coefficients['TICKER']=list_tickers2\n",
    "coefficients['alpha']=alphas\n",
    "coefficients['betaM']=betasM\n",
    "coefficients['betaHML']=betasHML\n",
    "coefficients['betaSMB']=betasSMB\n",
    "coefficients['betaUMD']=betasUMD"
   ]
  },
  {
   "cell_type": "code",
   "execution_count": 3,
   "metadata": {},
   "outputs": [
    {
     "data": {
      "text/html": [
       "<div>\n",
       "<style scoped>\n",
       "    .dataframe tbody tr th:only-of-type {\n",
       "        vertical-align: middle;\n",
       "    }\n",
       "\n",
       "    .dataframe tbody tr th {\n",
       "        vertical-align: top;\n",
       "    }\n",
       "\n",
       "    .dataframe thead th {\n",
       "        text-align: right;\n",
       "    }\n",
       "</style>\n",
       "<table border=\"1\" class=\"dataframe\">\n",
       "  <thead>\n",
       "    <tr style=\"text-align: right;\">\n",
       "      <th></th>\n",
       "      <th>TICKER</th>\n",
       "      <th>alpha</th>\n",
       "      <th>betaM</th>\n",
       "      <th>betaHML</th>\n",
       "      <th>betaSMB</th>\n",
       "      <th>betaUMD</th>\n",
       "    </tr>\n",
       "  </thead>\n",
       "  <tbody>\n",
       "    <tr>\n",
       "      <th>1292</th>\n",
       "      <td>PMA</td>\n",
       "      <td>-0.763700</td>\n",
       "      <td>4.166038</td>\n",
       "      <td>1.130472</td>\n",
       "      <td>-1.742982</td>\n",
       "      <td>-1.267385</td>\n",
       "    </tr>\n",
       "    <tr>\n",
       "      <th>552</th>\n",
       "      <td>TAP</td>\n",
       "      <td>-0.532201</td>\n",
       "      <td>-0.674568</td>\n",
       "      <td>2.915062</td>\n",
       "      <td>0.386707</td>\n",
       "      <td>0.854397</td>\n",
       "    </tr>\n",
       "    <tr>\n",
       "      <th>975</th>\n",
       "      <td>CFBK</td>\n",
       "      <td>-0.426702</td>\n",
       "      <td>2.194818</td>\n",
       "      <td>-1.601014</td>\n",
       "      <td>-3.748678</td>\n",
       "      <td>0.336686</td>\n",
       "    </tr>\n",
       "    <tr>\n",
       "      <th>573</th>\n",
       "      <td>BIO</td>\n",
       "      <td>-0.386487</td>\n",
       "      <td>0.124729</td>\n",
       "      <td>1.418882</td>\n",
       "      <td>-1.769278</td>\n",
       "      <td>0.698999</td>\n",
       "    </tr>\n",
       "    <tr>\n",
       "      <th>482</th>\n",
       "      <td>WSO</td>\n",
       "      <td>-0.382563</td>\n",
       "      <td>-0.672005</td>\n",
       "      <td>-3.761502</td>\n",
       "      <td>3.024677</td>\n",
       "      <td>-1.849417</td>\n",
       "    </tr>\n",
       "    <tr>\n",
       "      <th>...</th>\n",
       "      <td>...</td>\n",
       "      <td>...</td>\n",
       "      <td>...</td>\n",
       "      <td>...</td>\n",
       "      <td>...</td>\n",
       "      <td>...</td>\n",
       "    </tr>\n",
       "    <tr>\n",
       "      <th>1315</th>\n",
       "      <td>CIE</td>\n",
       "      <td>0.067313</td>\n",
       "      <td>-0.182355</td>\n",
       "      <td>3.799479</td>\n",
       "      <td>6.305080</td>\n",
       "      <td>-0.871485</td>\n",
       "    </tr>\n",
       "    <tr>\n",
       "      <th>492</th>\n",
       "      <td>LSI</td>\n",
       "      <td>0.067668</td>\n",
       "      <td>0.272380</td>\n",
       "      <td>2.551747</td>\n",
       "      <td>2.166630</td>\n",
       "      <td>-0.772064</td>\n",
       "    </tr>\n",
       "    <tr>\n",
       "      <th>67</th>\n",
       "      <td>ACP</td>\n",
       "      <td>0.078402</td>\n",
       "      <td>1.023530</td>\n",
       "      <td>-0.038317</td>\n",
       "      <td>0.374206</td>\n",
       "      <td>-0.311107</td>\n",
       "    </tr>\n",
       "    <tr>\n",
       "      <th>893</th>\n",
       "      <td>MNST</td>\n",
       "      <td>0.079819</td>\n",
       "      <td>0.516284</td>\n",
       "      <td>-8.784422</td>\n",
       "      <td>1.883109</td>\n",
       "      <td>-6.575379</td>\n",
       "    </tr>\n",
       "    <tr>\n",
       "      <th>128</th>\n",
       "      <td>SRC</td>\n",
       "      <td>0.095820</td>\n",
       "      <td>-5.126650</td>\n",
       "      <td>-2.279722</td>\n",
       "      <td>-0.411788</td>\n",
       "      <td>-0.915934</td>\n",
       "    </tr>\n",
       "  </tbody>\n",
       "</table>\n",
       "<p>1327 rows × 6 columns</p>\n",
       "</div>"
      ],
      "text/plain": [
       "     TICKER     alpha     betaM   betaHML   betaSMB   betaUMD\n",
       "1292    PMA -0.763700  4.166038  1.130472 -1.742982 -1.267385\n",
       "552     TAP -0.532201 -0.674568  2.915062  0.386707  0.854397\n",
       "975    CFBK -0.426702  2.194818 -1.601014 -3.748678  0.336686\n",
       "573     BIO -0.386487  0.124729  1.418882 -1.769278  0.698999\n",
       "482     WSO -0.382563 -0.672005 -3.761502  3.024677 -1.849417\n",
       "...     ...       ...       ...       ...       ...       ...\n",
       "1315    CIE  0.067313 -0.182355  3.799479  6.305080 -0.871485\n",
       "492     LSI  0.067668  0.272380  2.551747  2.166630 -0.772064\n",
       "67      ACP  0.078402  1.023530 -0.038317  0.374206 -0.311107\n",
       "893    MNST  0.079819  0.516284 -8.784422  1.883109 -6.575379\n",
       "128     SRC  0.095820 -5.126650 -2.279722 -0.411788 -0.915934\n",
       "\n",
       "[1327 rows x 6 columns]"
      ]
     },
     "execution_count": 3,
     "metadata": {},
     "output_type": "execute_result"
    }
   ],
   "source": [
    "coefficients.sort_values(by='alpha',ascending=True)"
   ]
  },
  {
   "cell_type": "code",
   "execution_count": 4,
   "metadata": {},
   "outputs": [],
   "source": [
    "top_alpha=coefficients.sort_values(by='alpha',ascending=False).reset_index(drop=True).head()\n",
    "bottom_alpha=coefficients.sort_values(by='alpha',ascending=True).reset_index(drop=True).head()"
   ]
  },
  {
   "cell_type": "code",
   "execution_count": 5,
   "metadata": {},
   "outputs": [],
   "source": [
    "import scipy.optimize as spo\n",
    "\n",
    "set_stocks=top_alpha.copy()\n",
    "\n",
    "def alpha_port(set_stocks):\n",
    "\n",
    "    betas_matrix=np.column_stack(\n",
    "        (set_stocks[['betaM','betaHML','betaSMB','betaUMD']].values,np.ones(len(set_stocks))))\n",
    "\n",
    "    alphas_matrix=set_stocks[['alpha']].values\n",
    "\n",
    "    w_init=[1/len(set_stocks)]*len(set_stocks) # initial weights\n",
    "\n",
    "    def equation_system(w):\n",
    "        return np.dot(w,betas_matrix)-np.concatenate((np.zeros(4),np.ones(1))) # matrix system\n",
    "\n",
    "    def alphas(w):\n",
    "        return -np.dot(w,alphas_matrix)\n",
    "\n",
    "    cons=({'type':'eq', 'fun':lambda x: equation_system(x)})\n",
    "\n",
    "    ret=spo.minimize(alphas, w_init, constraints=cons)\n",
    "    \n",
    "    return ret.x, alphas(ret.x)"
   ]
  },
  {
   "cell_type": "code",
   "execution_count": 6,
   "metadata": {},
   "outputs": [
    {
     "data": {
      "text/plain": [
       "(array([ 0.17762543, -0.0637106 ,  0.92464115, -0.02179803, -0.01675795]),\n",
       " array([-0.08182519]))"
      ]
     },
     "execution_count": 6,
     "metadata": {},
     "output_type": "execute_result"
    }
   ],
   "source": [
    "alpha_port(top_alpha)"
   ]
  },
  {
   "cell_type": "code",
   "execution_count": 7,
   "metadata": {},
   "outputs": [
    {
     "data": {
      "text/plain": [
       "(array([-0.0021866 ,  0.4049986 ,  0.20490249,  0.12074593,  0.27153958]),\n",
       " array([0.45185078]))"
      ]
     },
     "execution_count": 7,
     "metadata": {},
     "output_type": "execute_result"
    }
   ],
   "source": [
    "alpha_port(bottom_alpha)"
   ]
  },
  {
   "cell_type": "code",
   "execution_count": null,
   "metadata": {},
   "outputs": [],
   "source": []
  }
 ],
 "metadata": {
  "kernelspec": {
   "display_name": "Python 3",
   "language": "python",
   "name": "python3"
  },
  "language_info": {
   "codemirror_mode": {
    "name": "ipython",
    "version": 3
   },
   "file_extension": ".py",
   "mimetype": "text/x-python",
   "name": "python",
   "nbconvert_exporter": "python",
   "pygments_lexer": "ipython3",
   "version": "3.8.3"
  },
  "toc": {
   "base_numbering": 1,
   "nav_menu": {},
   "number_sections": true,
   "sideBar": true,
   "skip_h1_title": false,
   "title_cell": "Table of Contents",
   "title_sidebar": "Contents",
   "toc_cell": false,
   "toc_position": {},
   "toc_section_display": true,
   "toc_window_display": false
  }
 },
 "nbformat": 4,
 "nbformat_minor": 2
}
